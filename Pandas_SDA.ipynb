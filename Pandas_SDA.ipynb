{
 "cells": [
  {
   "cell_type": "code",
   "execution_count": 3,
   "id": "285d5c9f-7e6a-4c99-ab87-df78fea703cb",
   "metadata": {},
   "outputs": [
    {
     "name": "stdout",
     "output_type": "stream",
     "text": [
      "Hello, SDA\n"
     ]
    }
   ],
   "source": [
    "print(\"Hello, SDA\")"
   ]
  },
  {
   "cell_type": "code",
   "execution_count": 9,
   "id": "272d1221-2af8-415e-b047-78d2511a5e10",
   "metadata": {},
   "outputs": [],
   "source": [
    "import pandas as pd"
   ]
  },
  {
   "cell_type": "code",
   "execution_count": null,
   "id": "37b0ab43-b7f5-4b57-91ae-8fa85c0056fa",
   "metadata": {},
   "outputs": [],
   "source": []
  }
 ],
 "metadata": {
  "kernelspec": {
   "display_name": "venv_kamil_sda",
   "language": "python",
   "name": "venv_kamil_sda"
  },
  "language_info": {
   "codemirror_mode": {
    "name": "ipython",
    "version": 3
   },
   "file_extension": ".py",
   "mimetype": "text/x-python",
   "name": "python",
   "nbconvert_exporter": "python",
   "pygments_lexer": "ipython3",
   "version": "3.9.4"
  }
 },
 "nbformat": 4,
 "nbformat_minor": 5
}
